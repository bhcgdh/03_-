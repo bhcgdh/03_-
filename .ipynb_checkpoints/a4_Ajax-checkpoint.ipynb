{
 "cells": [
  {
   "cell_type": "code",
   "execution_count": 2,
   "metadata": {},
   "outputs": [],
   "source": [
    "'''直接利用requests等库来抓取原始页面，是无法获取到有效数据的，\n",
    "这时需要分析网页后台向接口发送的Ajax请求，如果可以用requests来模拟Ajax请求'''"
   ]
  },
  {
   "cell_type": "code",
   "execution_count": 6,
   "metadata": {},
   "outputs": [],
   "source": [
    "'''\n",
    "(1) Ajax，全称为Asynchronous JavaScript and XML，即异步的JavaScript和XML。\n",
    "\n",
    "(2) 利用JavaScript在保证页面不被刷新、页面链接不改变的情况下与服务器交换数据并更新部分网页的技术\n",
    "\n",
    "(3) 页面实际上是在后台与服务器进行了数据交互，获取到数据之后，再利用JavaScript改变网页，\n",
    "\n",
    "(4) 主要涉及3个步骤 ：1）发送请求；2) 解析内容；3) 渲染网页\n",
    "\n",
    "请求到底是怎么发送的，发往哪里，发了哪些参数\n",
    "\n",
    " '''\n"
   ]
  },
  {
   "cell_type": "code",
   "execution_count": 159,
   "metadata": {},
   "outputs": [],
   "source": [
    "'''网页检查--》查看network--->点击xhr，即可看到所有ajax类型数据-->右侧的headers里有新的url连接'''\n",
    "import json\n",
    "import os\n",
    "from hashlib import md5\n",
    "import requests\n",
    "from urllib.parse import urlencode"
   ]
  },
  {
   "cell_type": "code",
   "execution_count": 235,
   "metadata": {},
   "outputs": [],
   "source": [
    "''' 1 对今日头条中的图片进行爬取，\n",
    "https://cuiqingcai.com/5616.html\n",
    "注意观察 检查--》network--->xhr---》headers和preview\n",
    "headers里的参数中 ，在多次更新页面进行加载图片时，offset在改变，其他值不变'''\n",
    "\n",
    "'''2 实现方法get_page()来加载单个Ajax请求的结果。\n",
    "其中唯一变化的参数就是offset，所以我们将它当作参数传递，'''\n",
    "\n",
    "\n",
    "''' 3 原始的催的方法中，返回的数据不完整，和原始中不同，这里改了2个主要操作：\n",
    "\n",
    "(1) 对headers 进行了补充，增加了多个字段数据 \n",
    "\n",
    "(2) url使用对应的网址，而非第三个，第三个url是原始教程中的数据'''"
   ]
  },
  {
   "cell_type": "code",
   "execution_count": 314,
   "metadata": {},
   "outputs": [],
   "source": [
    "headers = {\n",
    "    'Host': 'www.toutiao.com',\n",
    "    'user-agent': 'Mozilla/5.0 (Windows NT 6.3; WOW64) AppleWebKit/537.36 (KHTML, like Gecko) Chrome/66.0.3359.139 Safari/537.36',\n",
    "    'cookie':'td_cookie=2173535685; tt_webid=6714238007476585991; WEATHER_CITY=%E5%8C%97%E4%BA%AC; UM_distinctid=16bfac56be9a80-04ebd50cf5b56-444a002e-1aeaa0-16bfac56bea462; tt_webid=6714238007476585991; csrftoken=ee8f5c41b0aca48a69da37b586554692; s_v_web_id=6fd4c873aad997703e465811e9042198; __tasessionId=ff66dw7xv1563412990903; CNZZDATA1259612802=172832580-1563275139-null%7C1563410996',\n",
    "    'x-requested-with': 'XMLHttpRequest',  \n",
    "    'referer': 'https://www.toutiao.com/search/?keyword=%E5%9B%BE%E7%89%87'}\n",
    "\n",
    "def get_page(offset):\n",
    "#     offset= '20'\n",
    "    params = {'aid': '24',\n",
    "              'app_name': 'web_search',\n",
    "              'offset':offset,\n",
    "              'format':'json',\n",
    "              'keyword':'图片',\n",
    "              'autoload':'true',\n",
    "              'count':  '20',\n",
    "              'en_qc':  '1',\n",
    "              'cur_tab':  '1',\n",
    "              'from': 'search_tab',\n",
    "              'pd': 'synthesis',\n",
    "             }\n",
    "    url = 'https://www.toutiao.com/api/search/content/?'+urlencode(params) # 这个不可以获得所有的数据，但是这是从检查中获得的。增加header时可以\n",
    "#     url = 'https://www.toutiao.com/search/content/?'+urlencode(params) # 这个不可以\n",
    "#     url = 'https://www.toutiao.com/search_content/?'+urlencode(params) # 这个返回的数据不全，是原始教程中的url\n",
    "    # print(url)\n",
    "    try:\n",
    "        res = requests.get(url,headers=headers)\n",
    "        if res.status_code==200:\n",
    "            return url, res.json()  # 注意这里的格式，返回的是json的格式\n",
    "    except requests.ConnectionError:\n",
    "            return None\n",
    "        \n",
    "def get_large_img_url(req):\n",
    "    k = {}\n",
    "    for df in req['data']:\n",
    "        if 'title' in df.keys():\n",
    "            title = df['title']\n",
    "            for key in df.keys():\n",
    "                if 'large_image_url' in key:\n",
    "                    value = df['large_image_url']\n",
    "                    if len(value)!=0:\n",
    "                        k[title] = value    return k\n",
    "\n",
    "def save_img(img_url):\n",
    "    path = \"F:\\\\Learn\\\\python\\\\pycodes\\\\zhengt\\\\10_pa\\\\L1_basic\\\\img\\\\a4_img\" \n",
    "    for i in img_url:\n",
    "        tit = i\n",
    "        url = img_url[i]\n",
    "         #path2 = path+tit  # 这个地方是用来讲title命名为新的文件夹，为了避免繁琐，我没再建这个文件夹\n",
    "         #if not os.path.exists(path2):\n",
    "             #os.mkdir(path2)\n",
    "        try:\n",
    "            # response = requests.get(url, headers=headers) # 这个不可以，返回的是400，,403等\n",
    "            response = requests.get(url)\n",
    "            if response.status_code==200:\n",
    "                file_path = '{0}\\\\{1}.{2}'.format(path,md5(response.content).hexdigest(), 'jpg')\n",
    "    #             file_path = '{0}{1}\\\\{2}.{3}'.format(path,tit,md5(response.content).hexdigest(), 'jpg')\n",
    "                if not os.path.exists(file_path):\n",
    "                    with open(file_path,'wb') as f:\n",
    "                        f.write(response.content)\n",
    "                else:\n",
    "                    print('已经下载过了',file_path)\n",
    "            else:\n",
    "                print( response.status_code)\n",
    "        except requests.ConnectionError:\n",
    "            print('未能保存图片',url)\n",
    "            \n"
   ]
  },
  {
   "cell_type": "code",
   "execution_count": 315,
   "metadata": {},
   "outputs": [
    {
     "name": "stdout",
     "output_type": "stream",
     "text": [
      "已经下载过了 F:\\Learn\\python\\pycodes\\zhengt\\10_pa\\L1_basic\\img\\a4_img\\70f050f82ce73a0c8a9b204a0a4799f9.jpg\n",
      "已经下载过了 F:\\Learn\\python\\pycodes\\zhengt\\10_pa\\L1_basic\\img\\a4_img\\fd6a043d991c3e4f880a46740590de58.jpg\n",
      "已经下载过了 F:\\Learn\\python\\pycodes\\zhengt\\10_pa\\L1_basic\\img\\a4_img\\0630adeab23f3fd55164c6e7389727ab.jpg\n",
      "已经下载过了 F:\\Learn\\python\\pycodes\\zhengt\\10_pa\\L1_basic\\img\\a4_img\\7b09b98b13889644d0161c9d3616e090.jpg\n",
      "已经下载过了 F:\\Learn\\python\\pycodes\\zhengt\\10_pa\\L1_basic\\img\\a4_img\\ee387f8c52fe80dfbd6790af7a8bc06c.jpg\n",
      "已经下载过了 F:\\Learn\\python\\pycodes\\zhengt\\10_pa\\L1_basic\\img\\a4_img\\bc030d3503d5d35f9071a2455531befb.jpg\n",
      "已经下载过了 F:\\Learn\\python\\pycodes\\zhengt\\10_pa\\L1_basic\\img\\a4_img\\eb6ec5987380fc64ee268ca7444658a7.jpg\n",
      "已经下载过了 F:\\Learn\\python\\pycodes\\zhengt\\10_pa\\L1_basic\\img\\a4_img\\643e59585d19f8cc7ff8405fa1ddd105.jpg\n",
      "已经下载过了 F:\\Learn\\python\\pycodes\\zhengt\\10_pa\\L1_basic\\img\\a4_img\\0539fb0aead8e5396f0c82ba21977ced.jpg\n",
      "已经下载过了 F:\\Learn\\python\\pycodes\\zhengt\\10_pa\\L1_basic\\img\\a4_img\\8de001e6362e0aced1e39e9472556f1c.jpg\n",
      "已经下载过了 F:\\Learn\\python\\pycodes\\zhengt\\10_pa\\L1_basic\\img\\a4_img\\873dae8e4b91aa73eaf86a9cb1a00881.jpg\n",
      "已经下载过了 F:\\Learn\\python\\pycodes\\zhengt\\10_pa\\L1_basic\\img\\a4_img\\d41865ee650e5a6f804ee250a3aa88ad.jpg\n",
      "已经下载过了 F:\\Learn\\python\\pycodes\\zhengt\\10_pa\\L1_basic\\img\\a4_img\\377c8b910609cc0a14e87a0705e3d980.jpg\n",
      "已经下载过了 F:\\Learn\\python\\pycodes\\zhengt\\10_pa\\L1_basic\\img\\a4_img\\377c8b910609cc0a14e87a0705e3d980.jpg\n"
     ]
    }
   ],
   "source": [
    "if __name__='__main__'\n",
    "group = [i*20 for i in range(1,6)]    # 这里可以自己设置，害怕被封号，就设置了少量的内容爬取，\n",
    "for n in group:\n",
    "    url,data = get_page(str(n))                 #  获取要爬取的网页地址\n",
    "    res = requests.get(url, headers=headers)  #  使用request进行数据下载\n",
    "    req = json.loads(res.text)                #  数据转为json格式，\n",
    "#     print(len(req),'\\n', req.keys(),'\\n',type(req['data']),'\\n',len(req['data']) )\n",
    "    img_url = get_large_img_url(req)          #  获取图片的url\n",
    "    save_img(img_url)                         # 下载图片到本地地址\n"
   ]
  },
  {
   "cell_type": "code",
   "execution_count": 318,
   "metadata": {},
   "outputs": [
    {
     "name": "stdout",
     "output_type": "stream",
     "text": [
      "F:\\Learn\\python\\pycodes\\zhengt\\10_pa\\L1_basic\n"
     ]
    }
   ],
   "source": []
  }
 ],
 "metadata": {
  "kernelspec": {
   "display_name": "Python 3",
   "language": "python",
   "name": "python3"
  },
  "language_info": {
   "codemirror_mode": {
    "name": "ipython",
    "version": 3
   },
   "file_extension": ".py",
   "mimetype": "text/x-python",
   "name": "python",
   "nbconvert_exporter": "python",
   "pygments_lexer": "ipython3",
   "version": "3.6.4"
  }
 },
 "nbformat": 4,
 "nbformat_minor": 2
}
